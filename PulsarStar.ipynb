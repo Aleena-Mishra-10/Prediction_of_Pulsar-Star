{
  "nbformat": 4,
  "nbformat_minor": 0,
  "metadata": {
    "kernelspec": {
      "display_name": "Python 3",
      "language": "python",
      "name": "python3"
    },
    "language_info": {
      "codemirror_mode": {
        "name": "ipython",
        "version": 3
      },
      "file_extension": ".py",
      "mimetype": "text/x-python",
      "name": "python",
      "nbconvert_exporter": "python",
      "pygments_lexer": "ipython3",
      "version": "3.7.3"
    },
    "colab": {
      "name": "PulsarStar.ipynb",
      "provenance": [],
      "collapsed_sections": [],
      "include_colab_link": true
    }
  },
  "cells": [
    {
      "cell_type": "markdown",
      "metadata": {
        "id": "view-in-github",
        "colab_type": "text"
      },
      "source": [
        "<a href=\"https://colab.research.google.com/github/Aleena-Mishra-10/Prediction_of_Pulsar-Star/blob/master/PulsarStar.ipynb\" target=\"_parent\"><img src=\"https://colab.research.google.com/assets/colab-badge.svg\" alt=\"Open In Colab\"/></a>"
      ]
    },
    {
      "cell_type": "markdown",
      "metadata": {
        "id": "_n3BZ1diaBzl",
        "colab_type": "text"
      },
      "source": [
        "# PREDICTING PULSAR STARS\n",
        "\n",
        "\n",
        "\n",
        "# FIRST WE IMPORT ALL THE LIBRERIES"
      ]
    },
    {
      "cell_type": "code",
      "metadata": {
        "id": "EbONGKF-aBzt",
        "colab_type": "code",
        "colab": {}
      },
      "source": [
        "import pandas as pd\n",
        "import numpy as np\n",
        "import matplotlib.pyplot as plt\n",
        "import seaborn as sns\n",
        "\n",
        "sns.set()"
      ],
      "execution_count": null,
      "outputs": []
    },
    {
      "cell_type": "markdown",
      "metadata": {
        "id": "67QAh5TbaBz9",
        "colab_type": "text"
      },
      "source": [
        "Now we read the csv file. "
      ]
    },
    {
      "cell_type": "code",
      "metadata": {
        "id": "VW4dUNnqaBz_",
        "colab_type": "code",
        "colab": {}
      },
      "source": [
        "data=pd.read_csv('pulsar_stars.csv')"
      ],
      "execution_count": null,
      "outputs": []
    },
    {
      "cell_type": "markdown",
      "metadata": {
        "id": "InFGqhf_aB0M",
        "colab_type": "text"
      },
      "source": [
        "# Data preprocessing"
      ]
    },
    {
      "cell_type": "markdown",
      "metadata": {
        "id": "RojrCvBEaB0P",
        "colab_type": "text"
      },
      "source": [
        "I have used the head() function to know about the dataset fromthe top 5 elements."
      ]
    },
    {
      "cell_type": "code",
      "metadata": {
        "id": "kEtVsbyzaB0V",
        "colab_type": "code",
        "colab": {},
        "outputId": "52ff4447-1ab3-44b7-8e13-c33415b35104"
      },
      "source": [
        "data.head()"
      ],
      "execution_count": null,
      "outputs": [
        {
          "output_type": "execute_result",
          "data": {
            "text/html": [
              "<div>\n",
              "<style scoped>\n",
              "    .dataframe tbody tr th:only-of-type {\n",
              "        vertical-align: middle;\n",
              "    }\n",
              "\n",
              "    .dataframe tbody tr th {\n",
              "        vertical-align: top;\n",
              "    }\n",
              "\n",
              "    .dataframe thead th {\n",
              "        text-align: right;\n",
              "    }\n",
              "</style>\n",
              "<table border=\"1\" class=\"dataframe\">\n",
              "  <thead>\n",
              "    <tr style=\"text-align: right;\">\n",
              "      <th></th>\n",
              "      <th>Mean of the integrated profile</th>\n",
              "      <th>Standard deviation of the integrated profile</th>\n",
              "      <th>Excess kurtosis of the integrated profile</th>\n",
              "      <th>Skewness of the integrated profile</th>\n",
              "      <th>Mean of the DM-SNR curve</th>\n",
              "      <th>Standard deviation of the DM-SNR curve</th>\n",
              "      <th>Excess kurtosis of the DM-SNR curve</th>\n",
              "      <th>Skewness of the DM-SNR curve</th>\n",
              "      <th>target_class</th>\n",
              "    </tr>\n",
              "  </thead>\n",
              "  <tbody>\n",
              "    <tr>\n",
              "      <th>0</th>\n",
              "      <td>140.562500</td>\n",
              "      <td>55.683782</td>\n",
              "      <td>-0.234571</td>\n",
              "      <td>-0.699648</td>\n",
              "      <td>3.199833</td>\n",
              "      <td>19.110426</td>\n",
              "      <td>7.975532</td>\n",
              "      <td>74.242225</td>\n",
              "      <td>0</td>\n",
              "    </tr>\n",
              "    <tr>\n",
              "      <th>1</th>\n",
              "      <td>102.507812</td>\n",
              "      <td>58.882430</td>\n",
              "      <td>0.465318</td>\n",
              "      <td>-0.515088</td>\n",
              "      <td>1.677258</td>\n",
              "      <td>14.860146</td>\n",
              "      <td>10.576487</td>\n",
              "      <td>127.393580</td>\n",
              "      <td>0</td>\n",
              "    </tr>\n",
              "    <tr>\n",
              "      <th>2</th>\n",
              "      <td>103.015625</td>\n",
              "      <td>39.341649</td>\n",
              "      <td>0.323328</td>\n",
              "      <td>1.051164</td>\n",
              "      <td>3.121237</td>\n",
              "      <td>21.744669</td>\n",
              "      <td>7.735822</td>\n",
              "      <td>63.171909</td>\n",
              "      <td>0</td>\n",
              "    </tr>\n",
              "    <tr>\n",
              "      <th>3</th>\n",
              "      <td>136.750000</td>\n",
              "      <td>57.178449</td>\n",
              "      <td>-0.068415</td>\n",
              "      <td>-0.636238</td>\n",
              "      <td>3.642977</td>\n",
              "      <td>20.959280</td>\n",
              "      <td>6.896499</td>\n",
              "      <td>53.593661</td>\n",
              "      <td>0</td>\n",
              "    </tr>\n",
              "    <tr>\n",
              "      <th>4</th>\n",
              "      <td>88.726562</td>\n",
              "      <td>40.672225</td>\n",
              "      <td>0.600866</td>\n",
              "      <td>1.123492</td>\n",
              "      <td>1.178930</td>\n",
              "      <td>11.468720</td>\n",
              "      <td>14.269573</td>\n",
              "      <td>252.567306</td>\n",
              "      <td>0</td>\n",
              "    </tr>\n",
              "  </tbody>\n",
              "</table>\n",
              "</div>"
            ],
            "text/plain": [
              "    Mean of the integrated profile  \\\n",
              "0                       140.562500   \n",
              "1                       102.507812   \n",
              "2                       103.015625   \n",
              "3                       136.750000   \n",
              "4                        88.726562   \n",
              "\n",
              "    Standard deviation of the integrated profile  \\\n",
              "0                                      55.683782   \n",
              "1                                      58.882430   \n",
              "2                                      39.341649   \n",
              "3                                      57.178449   \n",
              "4                                      40.672225   \n",
              "\n",
              "    Excess kurtosis of the integrated profile  \\\n",
              "0                                   -0.234571   \n",
              "1                                    0.465318   \n",
              "2                                    0.323328   \n",
              "3                                   -0.068415   \n",
              "4                                    0.600866   \n",
              "\n",
              "    Skewness of the integrated profile   Mean of the DM-SNR curve  \\\n",
              "0                            -0.699648                   3.199833   \n",
              "1                            -0.515088                   1.677258   \n",
              "2                             1.051164                   3.121237   \n",
              "3                            -0.636238                   3.642977   \n",
              "4                             1.123492                   1.178930   \n",
              "\n",
              "    Standard deviation of the DM-SNR curve  \\\n",
              "0                                19.110426   \n",
              "1                                14.860146   \n",
              "2                                21.744669   \n",
              "3                                20.959280   \n",
              "4                                11.468720   \n",
              "\n",
              "    Excess kurtosis of the DM-SNR curve   Skewness of the DM-SNR curve  \\\n",
              "0                              7.975532                      74.242225   \n",
              "1                             10.576487                     127.393580   \n",
              "2                              7.735822                      63.171909   \n",
              "3                              6.896499                      53.593661   \n",
              "4                             14.269573                     252.567306   \n",
              "\n",
              "   target_class  \n",
              "0             0  \n",
              "1             0  \n",
              "2             0  \n",
              "3             0  \n",
              "4             0  "
            ]
          },
          "metadata": {
            "tags": []
          },
          "execution_count": 3
        }
      ]
    },
    {
      "cell_type": "markdown",
      "metadata": {
        "id": "aucjvUbNaB0l",
        "colab_type": "text"
      },
      "source": [
        "I have used the isnull().num() function to the presence of null values."
      ]
    },
    {
      "cell_type": "code",
      "metadata": {
        "id": "gnP0-61faB0q",
        "colab_type": "code",
        "colab": {},
        "outputId": "a76e5c23-8b3c-43cf-e769-7b634751f378"
      },
      "source": [
        "data.isnull().sum()"
      ],
      "execution_count": null,
      "outputs": [
        {
          "output_type": "execute_result",
          "data": {
            "text/plain": [
              " Mean of the integrated profile                  0\n",
              " Standard deviation of the integrated profile    0\n",
              " Excess kurtosis of the integrated profile       0\n",
              " Skewness of the integrated profile              0\n",
              " Mean of the DM-SNR curve                        0\n",
              " Standard deviation of the DM-SNR curve          0\n",
              " Excess kurtosis of the DM-SNR curve             0\n",
              " Skewness of the DM-SNR curve                    0\n",
              "target_class                                     0\n",
              "dtype: int64"
            ]
          },
          "metadata": {
            "tags": []
          },
          "execution_count": 4
        }
      ]
    },
    {
      "cell_type": "markdown",
      "metadata": {
        "id": "aT7Dau3qaB04",
        "colab_type": "text"
      },
      "source": [
        "I have used the corr() to find out the correlation before dropping the target class."
      ]
    },
    {
      "cell_type": "code",
      "metadata": {
        "id": "bruCWHqhaB07",
        "colab_type": "code",
        "colab": {},
        "outputId": "d319ae3d-6296-4811-e932-7e6214347c02"
      },
      "source": [
        "data.corr()"
      ],
      "execution_count": null,
      "outputs": [
        {
          "output_type": "execute_result",
          "data": {
            "text/html": [
              "<div>\n",
              "<style scoped>\n",
              "    .dataframe tbody tr th:only-of-type {\n",
              "        vertical-align: middle;\n",
              "    }\n",
              "\n",
              "    .dataframe tbody tr th {\n",
              "        vertical-align: top;\n",
              "    }\n",
              "\n",
              "    .dataframe thead th {\n",
              "        text-align: right;\n",
              "    }\n",
              "</style>\n",
              "<table border=\"1\" class=\"dataframe\">\n",
              "  <thead>\n",
              "    <tr style=\"text-align: right;\">\n",
              "      <th></th>\n",
              "      <th>Mean of the integrated profile</th>\n",
              "      <th>Standard deviation of the integrated profile</th>\n",
              "      <th>Excess kurtosis of the integrated profile</th>\n",
              "      <th>Skewness of the integrated profile</th>\n",
              "      <th>Mean of the DM-SNR curve</th>\n",
              "      <th>Standard deviation of the DM-SNR curve</th>\n",
              "      <th>Excess kurtosis of the DM-SNR curve</th>\n",
              "      <th>Skewness of the DM-SNR curve</th>\n",
              "      <th>target_class</th>\n",
              "    </tr>\n",
              "  </thead>\n",
              "  <tbody>\n",
              "    <tr>\n",
              "      <th>Mean of the integrated profile</th>\n",
              "      <td>1.000000</td>\n",
              "      <td>0.547137</td>\n",
              "      <td>-0.873898</td>\n",
              "      <td>-0.738775</td>\n",
              "      <td>-0.298841</td>\n",
              "      <td>-0.307016</td>\n",
              "      <td>0.234331</td>\n",
              "      <td>0.144033</td>\n",
              "      <td>-0.673181</td>\n",
              "    </tr>\n",
              "    <tr>\n",
              "      <th>Standard deviation of the integrated profile</th>\n",
              "      <td>0.547137</td>\n",
              "      <td>1.000000</td>\n",
              "      <td>-0.521435</td>\n",
              "      <td>-0.539793</td>\n",
              "      <td>0.006869</td>\n",
              "      <td>-0.047632</td>\n",
              "      <td>0.029429</td>\n",
              "      <td>0.027691</td>\n",
              "      <td>-0.363708</td>\n",
              "    </tr>\n",
              "    <tr>\n",
              "      <th>Excess kurtosis of the integrated profile</th>\n",
              "      <td>-0.873898</td>\n",
              "      <td>-0.521435</td>\n",
              "      <td>1.000000</td>\n",
              "      <td>0.945729</td>\n",
              "      <td>0.414368</td>\n",
              "      <td>0.432880</td>\n",
              "      <td>-0.341209</td>\n",
              "      <td>-0.214491</td>\n",
              "      <td>0.791591</td>\n",
              "    </tr>\n",
              "    <tr>\n",
              "      <th>Skewness of the integrated profile</th>\n",
              "      <td>-0.738775</td>\n",
              "      <td>-0.539793</td>\n",
              "      <td>0.945729</td>\n",
              "      <td>1.000000</td>\n",
              "      <td>0.412056</td>\n",
              "      <td>0.415140</td>\n",
              "      <td>-0.328843</td>\n",
              "      <td>-0.204782</td>\n",
              "      <td>0.709528</td>\n",
              "    </tr>\n",
              "    <tr>\n",
              "      <th>Mean of the DM-SNR curve</th>\n",
              "      <td>-0.298841</td>\n",
              "      <td>0.006869</td>\n",
              "      <td>0.414368</td>\n",
              "      <td>0.412056</td>\n",
              "      <td>1.000000</td>\n",
              "      <td>0.796555</td>\n",
              "      <td>-0.615971</td>\n",
              "      <td>-0.354269</td>\n",
              "      <td>0.400876</td>\n",
              "    </tr>\n",
              "    <tr>\n",
              "      <th>Standard deviation of the DM-SNR curve</th>\n",
              "      <td>-0.307016</td>\n",
              "      <td>-0.047632</td>\n",
              "      <td>0.432880</td>\n",
              "      <td>0.415140</td>\n",
              "      <td>0.796555</td>\n",
              "      <td>1.000000</td>\n",
              "      <td>-0.809786</td>\n",
              "      <td>-0.575800</td>\n",
              "      <td>0.491535</td>\n",
              "    </tr>\n",
              "    <tr>\n",
              "      <th>Excess kurtosis of the DM-SNR curve</th>\n",
              "      <td>0.234331</td>\n",
              "      <td>0.029429</td>\n",
              "      <td>-0.341209</td>\n",
              "      <td>-0.328843</td>\n",
              "      <td>-0.615971</td>\n",
              "      <td>-0.809786</td>\n",
              "      <td>1.000000</td>\n",
              "      <td>0.923743</td>\n",
              "      <td>-0.390816</td>\n",
              "    </tr>\n",
              "    <tr>\n",
              "      <th>Skewness of the DM-SNR curve</th>\n",
              "      <td>0.144033</td>\n",
              "      <td>0.027691</td>\n",
              "      <td>-0.214491</td>\n",
              "      <td>-0.204782</td>\n",
              "      <td>-0.354269</td>\n",
              "      <td>-0.575800</td>\n",
              "      <td>0.923743</td>\n",
              "      <td>1.000000</td>\n",
              "      <td>-0.259117</td>\n",
              "    </tr>\n",
              "    <tr>\n",
              "      <th>target_class</th>\n",
              "      <td>-0.673181</td>\n",
              "      <td>-0.363708</td>\n",
              "      <td>0.791591</td>\n",
              "      <td>0.709528</td>\n",
              "      <td>0.400876</td>\n",
              "      <td>0.491535</td>\n",
              "      <td>-0.390816</td>\n",
              "      <td>-0.259117</td>\n",
              "      <td>1.000000</td>\n",
              "    </tr>\n",
              "  </tbody>\n",
              "</table>\n",
              "</div>"
            ],
            "text/plain": [
              "                                                Mean of the integrated profile  \\\n",
              " Mean of the integrated profile                                       1.000000   \n",
              " Standard deviation of the integrated profile                         0.547137   \n",
              " Excess kurtosis of the integrated profile                           -0.873898   \n",
              " Skewness of the integrated profile                                  -0.738775   \n",
              " Mean of the DM-SNR curve                                            -0.298841   \n",
              " Standard deviation of the DM-SNR curve                              -0.307016   \n",
              " Excess kurtosis of the DM-SNR curve                                  0.234331   \n",
              " Skewness of the DM-SNR curve                                         0.144033   \n",
              "target_class                                                         -0.673181   \n",
              "\n",
              "                                                Standard deviation of the integrated profile  \\\n",
              " Mean of the integrated profile                                                     0.547137   \n",
              " Standard deviation of the integrated profile                                       1.000000   \n",
              " Excess kurtosis of the integrated profile                                         -0.521435   \n",
              " Skewness of the integrated profile                                                -0.539793   \n",
              " Mean of the DM-SNR curve                                                           0.006869   \n",
              " Standard deviation of the DM-SNR curve                                            -0.047632   \n",
              " Excess kurtosis of the DM-SNR curve                                                0.029429   \n",
              " Skewness of the DM-SNR curve                                                       0.027691   \n",
              "target_class                                                                       -0.363708   \n",
              "\n",
              "                                                Excess kurtosis of the integrated profile  \\\n",
              " Mean of the integrated profile                                                 -0.873898   \n",
              " Standard deviation of the integrated profile                                   -0.521435   \n",
              " Excess kurtosis of the integrated profile                                       1.000000   \n",
              " Skewness of the integrated profile                                              0.945729   \n",
              " Mean of the DM-SNR curve                                                        0.414368   \n",
              " Standard deviation of the DM-SNR curve                                          0.432880   \n",
              " Excess kurtosis of the DM-SNR curve                                            -0.341209   \n",
              " Skewness of the DM-SNR curve                                                   -0.214491   \n",
              "target_class                                                                     0.791591   \n",
              "\n",
              "                                                Skewness of the integrated profile  \\\n",
              " Mean of the integrated profile                                          -0.738775   \n",
              " Standard deviation of the integrated profile                            -0.539793   \n",
              " Excess kurtosis of the integrated profile                                0.945729   \n",
              " Skewness of the integrated profile                                       1.000000   \n",
              " Mean of the DM-SNR curve                                                 0.412056   \n",
              " Standard deviation of the DM-SNR curve                                   0.415140   \n",
              " Excess kurtosis of the DM-SNR curve                                     -0.328843   \n",
              " Skewness of the DM-SNR curve                                            -0.204782   \n",
              "target_class                                                              0.709528   \n",
              "\n",
              "                                                Mean of the DM-SNR curve  \\\n",
              " Mean of the integrated profile                                -0.298841   \n",
              " Standard deviation of the integrated profile                   0.006869   \n",
              " Excess kurtosis of the integrated profile                      0.414368   \n",
              " Skewness of the integrated profile                             0.412056   \n",
              " Mean of the DM-SNR curve                                       1.000000   \n",
              " Standard deviation of the DM-SNR curve                         0.796555   \n",
              " Excess kurtosis of the DM-SNR curve                           -0.615971   \n",
              " Skewness of the DM-SNR curve                                  -0.354269   \n",
              "target_class                                                    0.400876   \n",
              "\n",
              "                                                Standard deviation of the DM-SNR curve  \\\n",
              " Mean of the integrated profile                                              -0.307016   \n",
              " Standard deviation of the integrated profile                                -0.047632   \n",
              " Excess kurtosis of the integrated profile                                    0.432880   \n",
              " Skewness of the integrated profile                                           0.415140   \n",
              " Mean of the DM-SNR curve                                                     0.796555   \n",
              " Standard deviation of the DM-SNR curve                                       1.000000   \n",
              " Excess kurtosis of the DM-SNR curve                                         -0.809786   \n",
              " Skewness of the DM-SNR curve                                                -0.575800   \n",
              "target_class                                                                  0.491535   \n",
              "\n",
              "                                                Excess kurtosis of the DM-SNR curve  \\\n",
              " Mean of the integrated profile                                            0.234331   \n",
              " Standard deviation of the integrated profile                              0.029429   \n",
              " Excess kurtosis of the integrated profile                                -0.341209   \n",
              " Skewness of the integrated profile                                       -0.328843   \n",
              " Mean of the DM-SNR curve                                                 -0.615971   \n",
              " Standard deviation of the DM-SNR curve                                   -0.809786   \n",
              " Excess kurtosis of the DM-SNR curve                                       1.000000   \n",
              " Skewness of the DM-SNR curve                                              0.923743   \n",
              "target_class                                                              -0.390816   \n",
              "\n",
              "                                                Skewness of the DM-SNR curve  \\\n",
              " Mean of the integrated profile                                     0.144033   \n",
              " Standard deviation of the integrated profile                       0.027691   \n",
              " Excess kurtosis of the integrated profile                         -0.214491   \n",
              " Skewness of the integrated profile                                -0.204782   \n",
              " Mean of the DM-SNR curve                                          -0.354269   \n",
              " Standard deviation of the DM-SNR curve                            -0.575800   \n",
              " Excess kurtosis of the DM-SNR curve                                0.923743   \n",
              " Skewness of the DM-SNR curve                                       1.000000   \n",
              "target_class                                                       -0.259117   \n",
              "\n",
              "                                               target_class  \n",
              " Mean of the integrated profile                   -0.673181  \n",
              " Standard deviation of the integrated profile     -0.363708  \n",
              " Excess kurtosis of the integrated profile         0.791591  \n",
              " Skewness of the integrated profile                0.709528  \n",
              " Mean of the DM-SNR curve                          0.400876  \n",
              " Standard deviation of the DM-SNR curve            0.491535  \n",
              " Excess kurtosis of the DM-SNR curve              -0.390816  \n",
              " Skewness of the DM-SNR curve                     -0.259117  \n",
              "target_class                                       1.000000  "
            ]
          },
          "metadata": {
            "tags": []
          },
          "execution_count": 5
        }
      ]
    },
    {
      "cell_type": "markdown",
      "metadata": {
        "id": "cYlZSFk5aB1I",
        "colab_type": "text"
      },
      "source": [
        "The below graph is the pictorial representation of the correlation."
      ]
    },
    {
      "cell_type": "code",
      "metadata": {
        "id": "qpmojGcQaB1K",
        "colab_type": "code",
        "colab": {},
        "outputId": "27b86976-9cf6-4eb1-d193-6587bdec198d"
      },
      "source": [
        "sns.heatmap(data.corr())"
      ],
      "execution_count": null,
      "outputs": [
        {
          "output_type": "execute_result",
          "data": {
            "text/plain": [
              "<matplotlib.axes._subplots.AxesSubplot at 0x268d2f94c50>"
            ]
          },
          "metadata": {
            "tags": []
          },
          "execution_count": 6
        },
        {
          "output_type": "display_data",
          "data": {
            "image/png": "[encoded data removed]",
            "text/plain": [
              "<Figure size 432x288 with 2 Axes>"
            ]
          },
          "metadata": {
            "tags": [],
            "needs_background": "light"
          }
        }
      ]
    },
    {
      "cell_type": "code",
      "metadata": {
        "id": "l9rMWZc3aB1T",
        "colab_type": "code",
        "colab": {}
      },
      "source": [
        "label=data.target_class.values\n",
        "data.drop([\"target_class\"],axis=1,inplace=True)\n",
        "feature=data.values"
      ],
      "execution_count": null,
      "outputs": []
    },
    {
      "cell_type": "code",
      "metadata": {
        "id": "ooFeU-vqaB1b",
        "colab_type": "code",
        "colab": {},
        "outputId": "c91c319d-348c-4948-e22e-896c5f4405a2"
      },
      "source": [
        "data.head()"
      ],
      "execution_count": null,
      "outputs": [
        {
          "output_type": "execute_result",
          "data": {
            "text/html": [
              "<div>\n",
              "<style scoped>\n",
              "    .dataframe tbody tr th:only-of-type {\n",
              "        vertical-align: middle;\n",
              "    }\n",
              "\n",
              "    .dataframe tbody tr th {\n",
              "        vertical-align: top;\n",
              "    }\n",
              "\n",
              "    .dataframe thead th {\n",
              "        text-align: right;\n",
              "    }\n",
              "</style>\n",
              "<table border=\"1\" class=\"dataframe\">\n",
              "  <thead>\n",
              "    <tr style=\"text-align: right;\">\n",
              "      <th></th>\n",
              "      <th>Mean of the integrated profile</th>\n",
              "      <th>Standard deviation of the integrated profile</th>\n",
              "      <th>Excess kurtosis of the integrated profile</th>\n",
              "      <th>Skewness of the integrated profile</th>\n",
              "      <th>Mean of the DM-SNR curve</th>\n",
              "      <th>Standard deviation of the DM-SNR curve</th>\n",
              "      <th>Excess kurtosis of the DM-SNR curve</th>\n",
              "      <th>Skewness of the DM-SNR curve</th>\n",
              "    </tr>\n",
              "  </thead>\n",
              "  <tbody>\n",
              "    <tr>\n",
              "      <th>0</th>\n",
              "      <td>140.562500</td>\n",
              "      <td>55.683782</td>\n",
              "      <td>-0.234571</td>\n",
              "      <td>-0.699648</td>\n",
              "      <td>3.199833</td>\n",
              "      <td>19.110426</td>\n",
              "      <td>7.975532</td>\n",
              "      <td>74.242225</td>\n",
              "    </tr>\n",
              "    <tr>\n",
              "      <th>1</th>\n",
              "      <td>102.507812</td>\n",
              "      <td>58.882430</td>\n",
              "      <td>0.465318</td>\n",
              "      <td>-0.515088</td>\n",
              "      <td>1.677258</td>\n",
              "      <td>14.860146</td>\n",
              "      <td>10.576487</td>\n",
              "      <td>127.393580</td>\n",
              "    </tr>\n",
              "    <tr>\n",
              "      <th>2</th>\n",
              "      <td>103.015625</td>\n",
              "      <td>39.341649</td>\n",
              "      <td>0.323328</td>\n",
              "      <td>1.051164</td>\n",
              "      <td>3.121237</td>\n",
              "      <td>21.744669</td>\n",
              "      <td>7.735822</td>\n",
              "      <td>63.171909</td>\n",
              "    </tr>\n",
              "    <tr>\n",
              "      <th>3</th>\n",
              "      <td>136.750000</td>\n",
              "      <td>57.178449</td>\n",
              "      <td>-0.068415</td>\n",
              "      <td>-0.636238</td>\n",
              "      <td>3.642977</td>\n",
              "      <td>20.959280</td>\n",
              "      <td>6.896499</td>\n",
              "      <td>53.593661</td>\n",
              "    </tr>\n",
              "    <tr>\n",
              "      <th>4</th>\n",
              "      <td>88.726562</td>\n",
              "      <td>40.672225</td>\n",
              "      <td>0.600866</td>\n",
              "      <td>1.123492</td>\n",
              "      <td>1.178930</td>\n",
              "      <td>11.468720</td>\n",
              "      <td>14.269573</td>\n",
              "      <td>252.567306</td>\n",
              "    </tr>\n",
              "  </tbody>\n",
              "</table>\n",
              "</div>"
            ],
            "text/plain": [
              "    Mean of the integrated profile  \\\n",
              "0                       140.562500   \n",
              "1                       102.507812   \n",
              "2                       103.015625   \n",
              "3                       136.750000   \n",
              "4                        88.726562   \n",
              "\n",
              "    Standard deviation of the integrated profile  \\\n",
              "0                                      55.683782   \n",
              "1                                      58.882430   \n",
              "2                                      39.341649   \n",
              "3                                      57.178449   \n",
              "4                                      40.672225   \n",
              "\n",
              "    Excess kurtosis of the integrated profile  \\\n",
              "0                                   -0.234571   \n",
              "1                                    0.465318   \n",
              "2                                    0.323328   \n",
              "3                                   -0.068415   \n",
              "4                                    0.600866   \n",
              "\n",
              "    Skewness of the integrated profile   Mean of the DM-SNR curve  \\\n",
              "0                            -0.699648                   3.199833   \n",
              "1                            -0.515088                   1.677258   \n",
              "2                             1.051164                   3.121237   \n",
              "3                            -0.636238                   3.642977   \n",
              "4                             1.123492                   1.178930   \n",
              "\n",
              "    Standard deviation of the DM-SNR curve  \\\n",
              "0                                19.110426   \n",
              "1                                14.860146   \n",
              "2                                21.744669   \n",
              "3                                20.959280   \n",
              "4                                11.468720   \n",
              "\n",
              "    Excess kurtosis of the DM-SNR curve   Skewness of the DM-SNR curve  \n",
              "0                              7.975532                      74.242225  \n",
              "1                             10.576487                     127.393580  \n",
              "2                              7.735822                      63.171909  \n",
              "3                              6.896499                      53.593661  \n",
              "4                             14.269573                     252.567306  "
            ]
          },
          "metadata": {
            "tags": []
          },
          "execution_count": 8
        }
      ]
    },
    {
      "cell_type": "markdown",
      "metadata": {
        "id": "fRXTuEtTaB1j",
        "colab_type": "text"
      },
      "source": [
        "As it is a skewed dataset .. I have normalized it by using  minmaxscaler for the purpose of balancing.."
      ]
    },
    {
      "cell_type": "code",
      "metadata": {
        "id": "NpT-JVpwaB1o",
        "colab_type": "code",
        "colab": {}
      },
      "source": [
        "from sklearn.preprocessing import MinMaxScaler\n",
        "scaler=MinMaxScaler(feature_range=(0,1))\n",
        "features_scaled=scaler.fit_transform(feature)"
      ],
      "execution_count": null,
      "outputs": []
    },
    {
      "cell_type": "markdown",
      "metadata": {
        "id": "R_xFA3KVaB1u",
        "colab_type": "text"
      },
      "source": [
        "Spliting of dataset into train and test .We use the train dataset for training purpose and test data set for testing purpose."
      ]
    },
    {
      "cell_type": "code",
      "metadata": {
        "id": "dYy7hYjUaB1w",
        "colab_type": "code",
        "colab": {}
      },
      "source": [
        "from sklearn.model_selection import train_test_split\n",
        "x_train,x_test,y_train,y_test=train_test_split(features_scaled,label,test_size=0.2,random_state=0)"
      ],
      "execution_count": null,
      "outputs": []
    },
    {
      "cell_type": "markdown",
      "metadata": {
        "id": "mHCiEAnBaB16",
        "colab_type": "text"
      },
      "source": [
        "Importing the necessary models "
      ]
    },
    {
      "cell_type": "markdown",
      "metadata": {
        "id": "DOU4kIu1aB17",
        "colab_type": "text"
      },
      "source": [
        "# MODEL TRAINING FOR LOGISTIC REGRESSION"
      ]
    },
    {
      "cell_type": "code",
      "metadata": {
        "id": "WJ1MDqeOaB1-",
        "colab_type": "code",
        "colab": {}
      },
      "source": [
        "from sklearn import linear_model\n",
        "model=linear_model.LogisticRegression(multi_class='auto')\n"
      ],
      "execution_count": null,
      "outputs": []
    },
    {
      "cell_type": "code",
      "metadata": {
        "id": "Lni_bZwhaB2D",
        "colab_type": "code",
        "colab": {},
        "outputId": "4c4c6492-1199-4f78-b3e3-61ddf68dcfcb"
      },
      "source": [
        "model.fit(x_train,y_train)"
      ],
      "execution_count": null,
      "outputs": [
        {
          "output_type": "stream",
          "text": [
            "C:\\Users\\KIIT\\Anaconda3\\lib\\site-packages\\sklearn\\linear_model\\logistic.py:433: FutureWarning: Default solver will be changed to 'lbfgs' in 0.22. Specify a solver to silence this warning.\n",
            "  FutureWarning)\n"
          ],
          "name": "stderr"
        },
        {
          "output_type": "execute_result",
          "data": {
            "text/plain": [
              "LogisticRegression(C=1.0, class_weight=None, dual=False, fit_intercept=True,\n",
              "          intercept_scaling=1, max_iter=100, multi_class='auto',\n",
              "          n_jobs=None, penalty='l2', random_state=None, solver='warn',\n",
              "          tol=0.0001, verbose=0, warm_start=False)"
            ]
          },
          "metadata": {
            "tags": []
          },
          "execution_count": 12
        }
      ]
    },
    {
      "cell_type": "markdown",
      "metadata": {
        "id": "fBBLDbC6aB2M",
        "colab_type": "text"
      },
      "source": [
        "# MODEL EVALUATION FOR LOGISTIC REGRESSION"
      ]
    },
    {
      "cell_type": "code",
      "metadata": {
        "id": "7_nDmRJ5aB2N",
        "colab_type": "code",
        "colab": {},
        "outputId": "635c448f-737f-4fd1-8c1e-0e7a705ea955"
      },
      "source": [
        "y_pred1=model.predict(x_test)\n",
        "y_pred1"
      ],
      "execution_count": null,
      "outputs": [
        {
          "output_type": "execute_result",
          "data": {
            "text/plain": [
              "array([0, 0, 0, ..., 0, 0, 0], dtype=int64)"
            ]
          },
          "metadata": {
            "tags": []
          },
          "execution_count": 13
        }
      ]
    },
    {
      "cell_type": "markdown",
      "metadata": {
        "id": "7ZYciifpaB2V",
        "colab_type": "text"
      },
      "source": [
        "# MODEL PREDICTION"
      ]
    },
    {
      "cell_type": "code",
      "metadata": {
        "id": "yoFImIJGaB2Z",
        "colab_type": "code",
        "colab": {},
        "outputId": "338f0d5d-2eb5-4107-aa76-978fb5aa24ea"
      },
      "source": [
        "train_accuracy=model.score(x_train,y_train)\n",
        "print('train accuracy\\t:',train_accuracy)\n",
        "test_accuracy1=model.score(x_test,y_test)\n",
        "print('test accurracy\\t:',test_accuracy1)"
      ],
      "execution_count": null,
      "outputs": [
        {
          "output_type": "stream",
          "text": [
            "train accuracy\t: 0.9730409275038413\n",
            "test accurracy\t: 0.9782122905027933\n"
          ],
          "name": "stdout"
        }
      ]
    },
    {
      "cell_type": "markdown",
      "metadata": {
        "id": "y_3fZXCraB2e",
        "colab_type": "text"
      },
      "source": [
        "# MODEL TRAINING FOR RANDOM FOREST CLASSIFIER"
      ]
    },
    {
      "cell_type": "code",
      "metadata": {
        "id": "hAMPf4YjaB2g",
        "colab_type": "code",
        "colab": {},
        "outputId": "ad1c8cb1-6e89-4771-c580-cd57024782eb"
      },
      "source": [
        "from sklearn.ensemble import RandomForestClassifier\n",
        "\n",
        "\n",
        "model=RandomForestClassifier(n_estimators=50,min_samples_leaf=20)\n",
        "\n",
        "model.fit(x_train,y_train)\n",
        "#model evaluation\n",
        "train_accuracy2=model.score(x_train, y_train)\n",
        "test_accuracy2=model.score(x_test, y_test)\n",
        "#model prediction\n",
        "print(\"train_accuracy:\",train_accuracy2)\n",
        "print(\"test_accuracy:\",test_accuracy2)\n"
      ],
      "execution_count": null,
      "outputs": [
        {
          "output_type": "stream",
          "text": [
            "train_accuracy: 0.9789076686688085\n",
            "test_accuracy: 0.9843575418994414\n"
          ],
          "name": "stdout"
        }
      ]
    },
    {
      "cell_type": "code",
      "metadata": {
        "id": "s8CeMxZ8aB2l",
        "colab_type": "code",
        "colab": {},
        "outputId": "bf0aacfd-6516-414e-9ca7-0cb434b4d77a"
      },
      "source": [
        "y_pred2=model.predict(x_test)\n",
        "y_pred2"
      ],
      "execution_count": null,
      "outputs": [
        {
          "output_type": "execute_result",
          "data": {
            "text/plain": [
              "array([0, 0, 0, ..., 0, 0, 0], dtype=int64)"
            ]
          },
          "metadata": {
            "tags": []
          },
          "execution_count": 16
        }
      ]
    },
    {
      "cell_type": "markdown",
      "metadata": {
        "id": "U8ZUzTGYaB2s",
        "colab_type": "text"
      },
      "source": [
        "# MODEL TRAINING FOR DECISION TREE"
      ]
    },
    {
      "cell_type": "code",
      "metadata": {
        "id": "NsSmb6GxaB2w",
        "colab_type": "code",
        "colab": {},
        "outputId": "89fbc4a9-0054-4183-c419-228c2f93b7dc"
      },
      "source": [
        "from sklearn.tree import DecisionTreeClassifier\n",
        "\n",
        "model=DecisionTreeClassifier(min_samples_leaf=15)\n",
        "\n",
        "model.fit(x_train,y_train)\n",
        "\n",
        "\n",
        "#model prediction\n",
        "train_accuracy3=model.score(x_train,y_train)\n",
        "print('train accuracy\\t:',train_accuracy3)\n",
        "test_accuracy3=model.score(x_test,y_test)\n",
        "print('test accurracy\\t:',test_accuracy3)"
      ],
      "execution_count": null,
      "outputs": [
        {
          "output_type": "stream",
          "text": [
            "train accuracy\t: 0.9810727755273083\n",
            "test accurracy\t: 0.9829608938547486\n"
          ],
          "name": "stdout"
        }
      ]
    },
    {
      "cell_type": "code",
      "metadata": {
        "id": "VjD1PAo5aB21",
        "colab_type": "code",
        "colab": {},
        "outputId": "d6773e70-3798-44c8-c8a2-ba7daef91622"
      },
      "source": [
        "y_pred3=model.predict(x_test)\n",
        "y_pred3\n"
      ],
      "execution_count": null,
      "outputs": [
        {
          "output_type": "execute_result",
          "data": {
            "text/plain": [
              "array([0, 0, 0, ..., 0, 0, 0], dtype=int64)"
            ]
          },
          "metadata": {
            "tags": []
          },
          "execution_count": 18
        }
      ]
    },
    {
      "cell_type": "markdown",
      "metadata": {
        "id": "SVEVzGdQaB3K",
        "colab_type": "text"
      },
      "source": [
        "# MODEL TRAINING FOR XGBOOST"
      ]
    },
    {
      "cell_type": "code",
      "metadata": {
        "id": "z9xCw2GCaB3N",
        "colab_type": "code",
        "colab": {},
        "outputId": "2dbd77ba-c93e-44f9-c837-ae5d9c39e020"
      },
      "source": [
        "from xgboost import XGBClassifier\n",
        "model=XGBClassifier()\n",
        "model.fit(x_train,y_train)\n",
        "train_accuracy4=model.score(x_train,y_train)\n",
        "print('train accuracy\\t:',train_accuracy4)\n",
        "test_accuracy4=model.score(x_test,y_test)\n",
        "print('test accuracy\\t:',test_accuracy4)"
      ],
      "execution_count": null,
      "outputs": [
        {
          "output_type": "stream",
          "text": [
            "train accuracy\t: 0.9821204078781953\n",
            "test accuracy\t: 0.9843575418994414\n"
          ],
          "name": "stdout"
        }
      ]
    },
    {
      "cell_type": "code",
      "metadata": {
        "id": "wKT05Dd7aB3R",
        "colab_type": "code",
        "colab": {},
        "outputId": "0616e4f3-692a-4588-ddfc-1b00a9e12560"
      },
      "source": [
        "y_pred4=model.predict(x_test)\n",
        "y_pred4"
      ],
      "execution_count": null,
      "outputs": [
        {
          "output_type": "execute_result",
          "data": {
            "text/plain": [
              "array([0, 0, 0, ..., 0, 0, 0], dtype=int64)"
            ]
          },
          "metadata": {
            "tags": []
          },
          "execution_count": 26
        }
      ]
    },
    {
      "cell_type": "markdown",
      "metadata": {
        "id": "d-PnENaPaB3V",
        "colab_type": "text"
      },
      "source": [
        "# IMPORT CONFUSION MATRIX TO CALCULATE MODEL PERFORMANCE."
      ]
    },
    {
      "cell_type": "code",
      "metadata": {
        "id": "64qd9lk9aB3X",
        "colab_type": "code",
        "colab": {},
        "outputId": "1200602d-b044-4e71-9f11-b69a649c2305"
      },
      "source": [
        "from sklearn.metrics import confusion_matrix\n",
        "from sklearn.metrics import recall_score\n",
        "from sklearn.metrics import  precision_score\n",
        "from sklearn.metrics import f1_score\n",
        "recall=recall_score(y_test,y_pred1)\n",
        "precision=precision_score(y_test,y_pred1)\n",
        "f1=f1_score(y_test,y_pred1)\n",
        "print(recall)\n",
        "print(precision)\n",
        "print(f1)\n",
        "\n",
        "lr=confusion_matrix(y_test,y_pred1)\n",
        "\n",
        "lr\n"
      ],
      "execution_count": null,
      "outputs": [
        {
          "output_type": "stream",
          "text": [
            "0.7700729927007299\n",
            "0.9336283185840708\n",
            "0.8440000000000001\n"
          ],
          "name": "stdout"
        },
        {
          "output_type": "execute_result",
          "data": {
            "text/plain": [
              "array([[3291,   15],\n",
              "       [  63,  211]], dtype=int64)"
            ]
          },
          "metadata": {
            "tags": []
          },
          "execution_count": 36
        }
      ]
    },
    {
      "cell_type": "code",
      "metadata": {
        "id": "4ZWZ36cyaB3g",
        "colab_type": "code",
        "colab": {},
        "outputId": "7632a850-d2e4-4a11-9221-e5719489c2d9"
      },
      "source": [
        "from sklearn.metrics import confusion_matrix\n",
        "from sklearn.metrics import recall_score\n",
        "from sklearn.metrics import  precision_score\n",
        "from sklearn.metrics import f1_score\n",
        "recall=recall_score(y_test,y_pred2)\n",
        "precision=precision_score(y_test,y_pred2)\n",
        "f1=f1_score(y_test,y_pred2)\n",
        "print(recall)\n",
        "print(precision)\n",
        "print(f1)\n",
        "rn=confusion_matrix(y_test,y_pred2)\n",
        "\n",
        "rn\n"
      ],
      "execution_count": null,
      "outputs": [
        {
          "output_type": "stream",
          "text": [
            "0.8613138686131386\n",
            "0.9291338582677166\n",
            "0.8939393939393939\n"
          ],
          "name": "stdout"
        },
        {
          "output_type": "execute_result",
          "data": {
            "text/plain": [
              "array([[3288,   18],\n",
              "       [  38,  236]], dtype=int64)"
            ]
          },
          "metadata": {
            "tags": []
          },
          "execution_count": 37
        }
      ]
    },
    {
      "cell_type": "code",
      "metadata": {
        "id": "F7WM6Jl6aB3l",
        "colab_type": "code",
        "colab": {},
        "outputId": "3456ca53-b685-4a1f-f077-25a7fd8700ad"
      },
      "source": [
        "from sklearn.metrics import confusion_matrix\n",
        "from sklearn.metrics import recall_score\n",
        "from sklearn.metrics import  precision_score\n",
        "from sklearn.metrics import f1_score\n",
        "recall=recall_score(y_test,y_pred3)\n",
        "precision=precision_score(y_test,y_pred3)\n",
        "f1=f1_score(y_test,y_pred3)\n",
        "dc=confusion_matrix(y_test,y_pred3)\n",
        "print(recall)\n",
        "print(precision)\n",
        "print(f1)\n",
        "dc"
      ],
      "execution_count": null,
      "outputs": [
        {
          "output_type": "stream",
          "text": [
            "0.8394160583941606\n",
            "0.9311740890688259\n",
            "0.8829174664107484\n"
          ],
          "name": "stdout"
        },
        {
          "output_type": "execute_result",
          "data": {
            "text/plain": [
              "array([[3289,   17],\n",
              "       [  44,  230]], dtype=int64)"
            ]
          },
          "metadata": {
            "tags": []
          },
          "execution_count": 38
        }
      ]
    },
    {
      "cell_type": "code",
      "metadata": {
        "id": "qscGMbgfaB3u",
        "colab_type": "code",
        "colab": {},
        "outputId": "d2370605-8c53-4ee3-962d-33e9c4d46a3e"
      },
      "source": [
        "from sklearn.metrics import confusion_matrix\n",
        "from sklearn.metrics import recall_score\n",
        "from sklearn.metrics import precision_score\n",
        "from sklearn.metrics import f1_score\n",
        "recall=recall_score(y_test,y_pred4)\n",
        "precision=precision_score(y_test,y_pred4)\n",
        "f1=f1_score(y_test,y_pred4)\n",
        "xgb=confusion_matrix(y_test,y_pred4)\n",
        "print(recall)\n",
        "print(precision)\n",
        "print(f1)\n",
        "xgb\n"
      ],
      "execution_count": null,
      "outputs": [
        {
          "output_type": "stream",
          "text": [
            "0.8686131386861314\n",
            "0.9224806201550387\n",
            "0.8947368421052632\n"
          ],
          "name": "stdout"
        },
        {
          "output_type": "execute_result",
          "data": {
            "text/plain": [
              "array([[3286,   20],\n",
              "       [  36,  238]], dtype=int64)"
            ]
          },
          "metadata": {
            "tags": []
          },
          "execution_count": 39
        }
      ]
    },
    {
      "cell_type": "markdown",
      "metadata": {
        "id": "0B4cIr_UaB3y",
        "colab_type": "text"
      },
      "source": [
        "# MODEL PERFORMANCE BY USING CONFUSION MATRIX"
      ]
    },
    {
      "cell_type": "code",
      "metadata": {
        "id": "thX8Mq6saB3z",
        "colab_type": "code",
        "colab": {},
        "outputId": "66527de1-2d37-472b-e472-3bb446aca8fc"
      },
      "source": [
        "plt.figure(figsize=(24,12))\n",
        "\n",
        "plt.suptitle(\"confusion matrixes\",fontsize=24)\n",
        "\n",
        "plt.subplot(2,3,1)\n",
        "plt.title(\"logistic regression confusion matrix\")\n",
        "sns.heatmap(lr,cbar=False,annot=True,cmap=\"CMRmap_r\", fmt=\"d\")\n",
        "\n",
        "plt.subplot(2,3,2)\n",
        "plt.title(\"random forest\")\n",
        "sns.heatmap(rn,cbar=False,annot=True,cmap=\"CMRmap_r\",fmt=\"d\")\n",
        "\n",
        "plt.subplot(2,3,3)\n",
        "plt.title(\"desision tree\")\n",
        "sns.heatmap(dc,cbar=False,annot=True,cmap=\"CMRmap_r\",fmt=\"d\")\n",
        "\n",
        "plt.subplot(2,3,4)\n",
        "plt.title(\"confusion matrix for xgboost\")\n",
        "sns.heatmap(xgb,cbar=False,annot=True,cmap=\"CMRmap_r\",fmt=\"d\")"
      ],
      "execution_count": null,
      "outputs": [
        {
          "output_type": "execute_result",
          "data": {
            "text/plain": [
              "<matplotlib.axes._subplots.AxesSubplot at 0x268d6b513c8>"
            ]
          },
          "metadata": {
            "tags": []
          },
          "execution_count": 40
        },
        {
          "output_type": "display_data",
          "data": {
            "image/png": "[encoded data removed]",
            "text/plain": [
              "<Figure size 1728x864 with 4 Axes>"
            ]
          },
          "metadata": {
            "tags": [],
            "needs_background": "light"
          }
        }
      ]
    },
    {
      "cell_type": "markdown",
      "metadata": {
        "id": "Jh3VyELFaB34",
        "colab_type": "text"
      },
      "source": [
        "# BAR CHART COMPARISION OF THE MODEL"
      ]
    },
    {
      "cell_type": "code",
      "metadata": {
        "id": "2RkavANdaB35",
        "colab_type": "code",
        "colab": {},
        "outputId": "0e9cc87d-9fa0-4f8d-8068-491f60cc7458"
      },
      "source": [
        "algorithms=(\"logistic regression\",\"random forest\",\"desision tree\",\"xgboost\")\n",
        "\n",
        "scores=(test_accuracy1,test_accuracy2,test_accuracy3,test_accuracy4)\n",
        "\n",
        "y_pos=np.arange(1,5)\n",
        "\n",
        "colors=(\"red\",\"blue\",\"yellow\",\"green\")\n",
        "\n",
        "plt.figure(figsize=(24,12))\n",
        "\n",
        "plt.xticks(y_pos,algorithms,fontsize=18)\n",
        "plt.yticks(np.arange(0.0,1.01,step=0.01))\n",
        "plt.ylim(0.90,1.00)\n",
        "plt.bar(y_pos,scores,color=colors)\n",
        "plt.grid()\n",
        "plt.suptitle(\"Bar chart comparision of models\")\n",
        "\n",
        "plt.show()"
      ],
      "execution_count": null,
      "outputs": [
        {
          "output_type": "display_data",
          "data": {
            "image/png": "[encoded data removed]",
            "text/plain": [
              "<Figure size 1728x864 with 1 Axes>"
            ]
          },
          "metadata": {
            "tags": [],
            "needs_background": "light"
          }
        }
      ]
    },
    {
      "cell_type": "code",
      "metadata": {
        "id": "6vUjbenuaB3_",
        "colab_type": "code",
        "colab": {}
      },
      "source": [
        ""
      ],
      "execution_count": null,
      "outputs": []
    }
  ]
}